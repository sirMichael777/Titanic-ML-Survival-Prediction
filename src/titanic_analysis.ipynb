{
 "cells": [
  {
   "cell_type": "code",
   "execution_count": null,
   "metadata": {},
   "outputs": [],
   "source": [
    "#import necessary libraries\n",
    "import pandas as pd  # For data manipulation and analysis\n",
    "import matplotlib.pyplot as plt  # For data visualization\n",
    "import seaborn as sns  # For statistical data visualization\n",
    "from sklearn.model_selection import train_test_split\n",
    "from sklearn.linear_model import LogisticRegression\n",
    "from sklearn.metrics import accuracy_score, precision_score, recall_score, f1_score, confusion_matrix"
   ]
  },
  {
   "cell_type": "markdown",
   "metadata": {},
   "source": [
    "Training Data exploration"
   ]
  },
  {
   "cell_type": "code",
   "execution_count": null,
   "metadata": {},
   "outputs": [],
   "source": [
    "trainTitanicData = pd.read_csv('../data/train.csv')\n",
    "print(\"The first few rows of the data\")\n",
    "print(trainTitanicData.head())"
   ]
  },
  {
   "cell_type": "code",
   "execution_count": null,
   "metadata": {},
   "outputs": [],
   "source": [
    "trainMissingData = trainTitanicData.isnull().sum()\n",
    "print(\"\\nMissing values in each column:\")\n",
    "print(trainMissingData)"
   ]
  },
  {
   "cell_type": "code",
   "execution_count": null,
   "metadata": {},
   "outputs": [],
   "source": [
    "#Display summary statistics\n",
    "trainSummaryStats = trainTitanicData.describe()\n",
    "print(\"\\nSummary stats for numeric features\")\n",
    "print(trainSummaryStats)"
   ]
  },
  {
   "cell_type": "code",
   "execution_count": null,
   "metadata": {},
   "outputs": [],
   "source": [
    "#visualise data\n",
    "plt.figure(figsize=(10,6))\n",
    "sns.boxplot(data=trainTitanicData.select_dtypes(include=['float64', 'int64'])) # Create boxplots for numerical features\n",
    "plt.title(\"Boxplots for numerical columns\")\n",
    "plt.show()"
   ]
  },
  {
   "cell_type": "markdown",
   "metadata": {},
   "source": [
    " Training Data Preprocessing"
   ]
  },
  {
   "cell_type": "code",
   "execution_count": null,
   "metadata": {},
   "outputs": [],
   "source": [
    "#Make a copy of teh original data\n",
    "trainTitanicData = trainTitanicData.copy()\n",
    "\n",
    "#Handle missing values\n",
    "#Replace missing Age values with the median age value\n",
    "trainTitanicData['Age'].fillna(trainTitanicData['Age'].median(), inplace=True)\n",
    "\n",
    "#Replace missing Embarked values with the most common value\n",
    "trainTitanicData['Embarked'].fillna(trainTitanicData['Embarked'].mode()[0], inplace=True)\n",
    "\n",
    "#Cabin has many missing values so I will drop that column\n",
    "trainTitanicData.drop('Cabin',axis=1,inplace=True)\n",
    "#Check if there are still missing values\n",
    "print(\"Confirming the number of missing values\")\n",
    "print(trainTitanicData.isnull().sum())"
   ]
  },
  {
   "cell_type": "code",
   "execution_count": null,
   "metadata": {},
   "outputs": [],
   "source": [
    "#Converting Categorial Data to numerical\n",
    "trainTitanicData = pd.get_dummies(trainTitanicData, columns=['Sex', 'Embarked'],drop_first = True)\n",
    "print(trainTitanicData.head())\n"
   ]
  },
  {
   "cell_type": "code",
   "execution_count": 77,
   "metadata": {},
   "outputs": [],
   "source": [
    "#Splitting data into features and labels\n",
    "X = trainTitanicData.drop('Survived', axis = 1)\n",
    "Y = trainTitanicData['Survived']\n",
    "\n",
    "#Splitting training data into training and validation\n",
    "xTrain, xVal, yTrain, yVal =  train_test_split(X,Y,test_size=0.2,random_state=42)"
   ]
  },
  {
   "cell_type": "markdown",
   "metadata": {},
   "source": [
    "Test Data preprocessing"
   ]
  },
  {
   "cell_type": "code",
   "execution_count": null,
   "metadata": {},
   "outputs": [],
   "source": [
    "#Load the test data\n",
    "testTitanicData = pd.read_csv('../data/test.csv')\n",
    "print(\"Overview of the test data\")\n",
    "print(testTitanicData.head())"
   ]
  },
  {
   "cell_type": "code",
   "execution_count": null,
   "metadata": {},
   "outputs": [],
   "source": [
    "# Check for missing data\n",
    "testMissingData = testTitanicData.isnull().sum()\n",
    "print(\"Missing data in each column for the test data\")\n",
    "print(testMissingData)"
   ]
  },
  {
   "cell_type": "code",
   "execution_count": null,
   "metadata": {},
   "outputs": [],
   "source": [
    "#Display summary statistics\n",
    "testSummaryStats = testTitanicData.describe()\n",
    "print(\"\\nSummary stats for numeric features\")\n",
    "print(testSummaryStats)"
   ]
  },
  {
   "cell_type": "code",
   "execution_count": null,
   "metadata": {},
   "outputs": [],
   "source": [
    "#visualise data\n",
    "plt.figure(figsize=(10,6))\n",
    "sns.boxplot(data=testTitanicData.select_dtypes(include=['float64', 'int64'])) # Create boxplots for numerical features\n",
    "plt.title(\"Boxplots for numerical columns\")\n",
    "plt.show()"
   ]
  },
  {
   "cell_type": "code",
   "execution_count": null,
   "metadata": {},
   "outputs": [],
   "source": [
    "#Make a copy of teh original data\n",
    "testTitanicData = testTitanicData.copy()\n",
    "\n",
    "#Handle missing values\n",
    "#Replace missing Age values with the median age value\n",
    "testTitanicData['Age'].fillna(testTitanicData['Age'].median(), inplace=True)\n",
    "\n",
    "#Replace missing Fare values with the most common value\n",
    "testTitanicData['Fare'].fillna(testTitanicData['Fare'].median(), inplace=True)\n",
    "\n",
    "#Cabin was dropped in training so drop it here in test too, it also has a lot of missing values\n",
    "testTitanicData.drop('Cabin',axis=1,inplace=True)\n",
    "#Check if there are still missing values\n",
    "print(\"Confirming the number of missing values\")\n",
    "print(testTitanicData.isnull().sum())"
   ]
  },
  {
   "cell_type": "code",
   "execution_count": null,
   "metadata": {},
   "outputs": [],
   "source": [
    "testTitanicData = pd.get_dummies(testTitanicData, columns=['Sex', 'Embarked'],drop_first = True)\n",
    "print(testTitanicData.head())"
   ]
  },
  {
   "cell_type": "markdown",
   "metadata": {},
   "source": []
  }
 ],
 "metadata": {
  "kernelspec": {
   "display_name": "venv",
   "language": "python",
   "name": "python3"
  },
  "language_info": {
   "codemirror_mode": {
    "name": "ipython",
    "version": 3
   },
   "file_extension": ".py",
   "mimetype": "text/x-python",
   "name": "python",
   "nbconvert_exporter": "python",
   "pygments_lexer": "ipython3",
   "version": "3.11.9"
  }
 },
 "nbformat": 4,
 "nbformat_minor": 2
}
