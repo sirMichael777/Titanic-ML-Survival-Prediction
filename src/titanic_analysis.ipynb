{
 "cells": [
  {
   "cell_type": "code",
   "execution_count": 33,
   "metadata": {},
   "outputs": [],
   "source": [
    "#import necessary libraries\n",
    "import pandas as pd  # For data manipulation and analysis\n",
    "import matplotlib.pyplot as plt  # For data visualization\n",
    "import seaborn as sns  # For statistical data visualization\n",
    "from sklearn.model_selection import train_test_split\n",
    "from sklearn.linear_model import LogisticRegression\n",
    "from sklearn.metrics import accuracy_score, precision_score, recall_score, f1_score, confusion_matrix\n",
    "from sklearn.tree import DecisionTreeClassifier\n",
    "from sklearn.ensemble import RandomForestClassifier\n",
    "from sklearn.model_selection import GridSearchCV"
   ]
  },
  {
   "cell_type": "markdown",
   "metadata": {},
   "source": [
    "Training Data exploration"
   ]
  },
  {
   "cell_type": "code",
   "execution_count": 34,
   "metadata": {},
   "outputs": [
    {
     "name": "stdout",
     "output_type": "stream",
     "text": [
      "The first few rows of the data\n",
      "   PassengerId  Survived  Pclass  \\\n",
      "0            1         0       3   \n",
      "1            2         1       1   \n",
      "2            3         1       3   \n",
      "3            4         1       1   \n",
      "4            5         0       3   \n",
      "\n",
      "                                                Name     Sex   Age  SibSp  \\\n",
      "0                            Braund, Mr. Owen Harris    male  22.0      1   \n",
      "1  Cumings, Mrs. John Bradley (Florence Briggs Th...  female  38.0      1   \n",
      "2                             Heikkinen, Miss. Laina  female  26.0      0   \n",
      "3       Futrelle, Mrs. Jacques Heath (Lily May Peel)  female  35.0      1   \n",
      "4                           Allen, Mr. William Henry    male  35.0      0   \n",
      "\n",
      "   Parch            Ticket     Fare Cabin Embarked  \n",
      "0      0         A/5 21171   7.2500   NaN        S  \n",
      "1      0          PC 17599  71.2833   C85        C  \n",
      "2      0  STON/O2. 3101282   7.9250   NaN        S  \n",
      "3      0            113803  53.1000  C123        S  \n",
      "4      0            373450   8.0500   NaN        S  \n"
     ]
    }
   ],
   "source": [
    "trainTitanicData = pd.read_csv('../data/train.csv')\n",
    "print(\"The first few rows of the data\")\n",
    "print(trainTitanicData.head())"
   ]
  },
  {
   "cell_type": "code",
   "execution_count": 35,
   "metadata": {},
   "outputs": [
    {
     "name": "stdout",
     "output_type": "stream",
     "text": [
      "\n",
      "Missing values in each column:\n",
      "PassengerId      0\n",
      "Survived         0\n",
      "Pclass           0\n",
      "Name             0\n",
      "Sex              0\n",
      "Age            177\n",
      "SibSp            0\n",
      "Parch            0\n",
      "Ticket           0\n",
      "Fare             0\n",
      "Cabin          687\n",
      "Embarked         2\n",
      "dtype: int64\n"
     ]
    }
   ],
   "source": [
    "trainMissingData = trainTitanicData.isnull().sum()\n",
    "print(\"\\nMissing values in each column:\")\n",
    "print(trainMissingData)"
   ]
  },
  {
   "cell_type": "code",
   "execution_count": 36,
   "metadata": {},
   "outputs": [
    {
     "name": "stdout",
     "output_type": "stream",
     "text": [
      "\n",
      "Summary stats for numeric features"
     ]
    },
    {
     "name": "stdout",
     "output_type": "stream",
     "text": [
      "\n",
      "       PassengerId    Survived      Pclass         Age       SibSp  \\\n",
      "count   891.000000  891.000000  891.000000  714.000000  891.000000   \n",
      "mean    446.000000    0.383838    2.308642   29.699118    0.523008   \n",
      "std     257.353842    0.486592    0.836071   14.526497    1.102743   \n",
      "min       1.000000    0.000000    1.000000    0.420000    0.000000   \n",
      "25%     223.500000    0.000000    2.000000   20.125000    0.000000   \n",
      "50%     446.000000    0.000000    3.000000   28.000000    0.000000   \n",
      "75%     668.500000    1.000000    3.000000   38.000000    1.000000   \n",
      "max     891.000000    1.000000    3.000000   80.000000    8.000000   \n",
      "\n",
      "            Parch        Fare  \n",
      "count  891.000000  891.000000  \n",
      "mean     0.381594   32.204208  \n",
      "std      0.806057   49.693429  \n",
      "min      0.000000    0.000000  \n",
      "25%      0.000000    7.910400  \n",
      "50%      0.000000   14.454200  \n",
      "75%      0.000000   31.000000  \n",
      "max      6.000000  512.329200  \n"
     ]
    }
   ],
   "source": [
    "#Display summary statistics\n",
    "trainSummaryStats = trainTitanicData.describe()\n",
    "print(\"\\nSummary stats for numeric features\")\n",
    "print(trainSummaryStats)"
   ]
  },
  {
   "cell_type": "code",
   "execution_count": 37,
   "metadata": {},
   "outputs": [
    {
     "data": {
      "image/png": "[encoded data removed]",
      "text/plain": [
       "<Figure size 1000x600 with 1 Axes>"
      ]
     },
     "metadata": {},
     "output_type": "display_data"
    }
   ],
   "source": [
    "#visualise data\n",
    "plt.figure(figsize=(10,6))\n",
    "sns.boxplot(data=trainTitanicData.select_dtypes(include=['float64', 'int64'])) # Create boxplots for numerical features\n",
    "plt.title(\"Boxplots for numerical columns\")\n",
    "plt.show()"
   ]
  },
  {
   "cell_type": "markdown",
   "metadata": {},
   "source": [
    " Training Data Preprocessing"
   ]
  },
  {
   "cell_type": "code",
   "execution_count": 38,
   "metadata": {},
   "outputs": [
    {
     "name": "stdout",
     "output_type": "stream",
     "text": [
      "Confirming the number of missing values\n",
      "PassengerId    0\n",
      "Survived       0\n",
      "Pclass         0\n",
      "Name           0\n",
      "Sex            0\n",
      "Age            0\n",
      "SibSp          0\n",
      "Parch          0\n",
      "Ticket         0\n",
      "Fare           0\n",
      "Embarked       0\n",
      "dtype: int64\n"
     ]
    }
   ],
   "source": [
    "#Make a copy of teh original data\n",
    "trainTitanicData = trainTitanicData.copy()\n",
    "\n",
    "#Handle missing values\n",
    "#Replace missing Age values with the median age value\n",
    "trainTitanicData['Age'].fillna(trainTitanicData['Age'].median(), inplace=True)\n",
    "\n",
    "#Replace missing Embarked values with the most common value\n",
    "trainTitanicData['Embarked'].fillna(trainTitanicData['Embarked'].mode()[0], inplace=True)\n",
    "\n",
    "#Cabin has many missing values so I will drop that column\n",
    "trainTitanicData.drop('Cabin',axis=1,inplace=True)\n",
    "#Check if there are still missing values\n",
    "print(\"Confirming the number of missing values\")\n",
    "print(trainTitanicData.isnull().sum())"
   ]
  },
  {
   "cell_type": "code",
   "execution_count": 39,
   "metadata": {},
   "outputs": [
    {
     "name": "stdout",
     "output_type": "stream",
     "text": [
      "   PassengerId  Survived  Pclass  \\\n",
      "0            1         0       3   \n",
      "1            2         1       1   \n",
      "2            3         1       3   \n",
      "3            4         1       1   \n",
      "4            5         0       3   \n",
      "\n",
      "                                                Name   Age  SibSp  Parch  \\\n",
      "0                            Braund, Mr. Owen Harris  22.0      1      0   \n",
      "1  Cumings, Mrs. John Bradley (Florence Briggs Th...  38.0      1      0   \n",
      "2                             Heikkinen, Miss. Laina  26.0      0      0   \n",
      "3       Futrelle, Mrs. Jacques Heath (Lily May Peel)  35.0      1      0   \n",
      "4                           Allen, Mr. William Henry  35.0      0      0   \n",
      "\n",
      "             Ticket     Fare  Sex_male  Embarked_Q  Embarked_S  \n",
      "0         A/5 21171   7.2500      True       False        True  \n",
      "1          PC 17599  71.2833     False       False       False  \n",
      "2  STON/O2. 3101282   7.9250     False       False        True  \n",
      "3            113803  53.1000     False       False        True  \n",
      "4            373450   8.0500      True       False        True  \n"
     ]
    }
   ],
   "source": [
    "#Converting Categorial Data to numerical\n",
    "trainTitanicData = pd.get_dummies(trainTitanicData, columns=['Sex', 'Embarked'],drop_first = True)\n",
    "print(trainTitanicData.head())\n"
   ]
  },
  {
   "cell_type": "code",
   "execution_count": 40,
   "metadata": {},
   "outputs": [],
   "source": [
    "# Drop columns that are not useful for prediction\n",
    "trainTitanicData.drop(['Name', 'Ticket', 'PassengerId'], axis=1, inplace=True)\n",
    "#Splitting data into features and labels\n",
    "X = trainTitanicData.drop('Survived', axis = 1)\n",
    "Y = trainTitanicData['Survived']\n",
    "\n",
    "#Splitting training data into training and validation\n",
    "xTrain, xVal, yTrain, yVal =  train_test_split(X,Y,test_size=0.2,random_state=42)"
   ]
  },
  {
   "cell_type": "markdown",
   "metadata": {},
   "source": [
    "Logistic Regression Training"
   ]
  },
  {
   "cell_type": "code",
   "execution_count": 41,
   "metadata": {},
   "outputs": [
    {
     "name": "stdout",
     "output_type": "stream",
     "text": [
      "Logistic Regression accuracy: 0.8100558659217877\n",
      "Precision: 0.7857142857142857\n",
      "Recall: 0.7432432432432432\n",
      "F1-Score: 0.7638888888888888\n",
      "[[90 15]\n",
      " [19 55]]\n"
     ]
    }
   ],
   "source": [
    "logreg = LogisticRegression(max_iter= 1000)  #Initialising model\n",
    "logreg.fit(xTrain, yTrain)  #Training the model\n",
    "yPredictedValue = logreg.predict(xVal)  #predicting on validation set\n",
    "\n",
    "#Evaluating model\n",
    "accuracy = accuracy_score(yVal, yPredictedValue)\n",
    "precision = precision_score(yVal,yPredictedValue)\n",
    "recall = recall_score(yVal, yPredictedValue)\n",
    "f1 = f1_score(yVal, yPredictedValue)\n",
    "confusionMatrix = confusion_matrix(yVal, yPredictedValue)\n",
    "\n",
    "print(\"Logistic Regression accuracy: \"+ str(accuracy))\n",
    "print(\"Precision: \"+ str(precision))\n",
    "print(\"Recall: \"+ str(recall))\n",
    "print(\"F1-Score: \"+ str(f1))\n",
    "print(confusionMatrix)"
   ]
  },
  {
   "cell_type": "markdown",
   "metadata": {},
   "source": [
    "Dicision Tree Training"
   ]
  },
  {
   "cell_type": "code",
   "execution_count": 42,
   "metadata": {},
   "outputs": [
    {
     "name": "stdout",
     "output_type": "stream",
     "text": [
      "Decision Tree accuracy: 0.7821229050279329\n",
      "Precision: 0.7272727272727273\n",
      "Recall: 0.7567567567567568\n",
      "F1-Score: 0.7417218543046358\n",
      "[[84 21]\n",
      " [18 56]]\n"
     ]
    }
   ],
   "source": [
    "dTree =  DecisionTreeClassifier(random_state=42)\n",
    "dTree.fit(xTrain, yTrain)   #Training model\n",
    "yPredictedValue = dTree.predict(xVal)   #predicting on Validation set\n",
    "\n",
    "\n",
    "#Evaluating model\n",
    "accuracy = accuracy_score(yVal, yPredictedValue)\n",
    "precision = precision_score(yVal,yPredictedValue)\n",
    "recall = recall_score(yVal, yPredictedValue)\n",
    "f1 = f1_score(yVal, yPredictedValue)\n",
    "confusionMatrix = confusion_matrix(yVal, yPredictedValue)\n",
    "\n",
    "print(\"Decision Tree accuracy: \"+ str(accuracy))\n",
    "print(\"Precision: \"+ str(precision))\n",
    "print(\"Recall: \"+ str(recall))\n",
    "print(\"F1-Score: \"+ str(f1))\n",
    "print(confusionMatrix)\n"
   ]
  },
  {
   "cell_type": "markdown",
   "metadata": {},
   "source": [
    "Random Forest Training"
   ]
  },
  {
   "cell_type": "code",
   "execution_count": 43,
   "metadata": {},
   "outputs": [
    {
     "name": "stdout",
     "output_type": "stream",
     "text": [
      "Random Forest accuracy: 0.8212290502793296\n",
      "Precision: 0.8\n",
      "Recall: 0.7567567567567568\n",
      "F1-Score: 0.7777777777777778\n",
      "[[91 14]\n",
      " [18 56]]\n"
     ]
    }
   ],
   "source": [
    "rForest = RandomForestClassifier(random_state=42)   #initialise model\n",
    "rForest.fit(xTrain, yTrain) #Train model\n",
    "yPredictedValue = rForest.predict(xVal) #predicting on Validation set\n",
    "\n",
    "#Evaluating model\n",
    "accuracy = accuracy_score(yVal, yPredictedValue)\n",
    "precision = precision_score(yVal,yPredictedValue)\n",
    "recall = recall_score(yVal, yPredictedValue)\n",
    "f1 = f1_score(yVal, yPredictedValue)\n",
    "confusionMatrix = confusion_matrix(yVal, yPredictedValue)\n",
    "\n",
    "print(\"Random Forest accuracy: \"+ str(accuracy))\n",
    "print(\"Precision: \"+ str(precision))\n",
    "print(\"Recall: \"+ str(recall))\n",
    "print(\"F1-Score: \"+ str(f1))\n",
    "print(confusionMatrix)"
   ]
  },
  {
   "cell_type": "markdown",
   "metadata": {},
   "source": [
    "Hyperparameter tuning for Random Forest"
   ]
  },
  {
   "cell_type": "code",
   "execution_count": 44,
   "metadata": {},
   "outputs": [
    {
     "name": "stdout",
     "output_type": "stream",
     "text": [
      "Fitting 5 folds for each of 1920 candidates, totalling 9600 fits\n",
      "Best Model accuracy: 0.8324022346368715\n",
      "Precision: 0.8666666666666667\n",
      "Recall: 0.7027027027027027\n",
      "F1-Score: 0.7761194029850748\n",
      "[[97  8]\n",
      " [22 52]]\n"
     ]
    }
   ],
   "source": [
    "# Define parameter grid\n",
    "paramGrid = {\n",
    "    'n_estimators': [50, 100, 200, 400],\n",
    "    'max_depth': [None, 10, 20, 30, 40],\n",
    "    'min_samples_split': [2, 5, 10, 15],\n",
    "    'min_samples_leaf': [1, 2, 4, 6],\n",
    "    'max_features': ['sqrt', 'log2', None],\n",
    "    'bootstrap': [True, False]\n",
    "}\n",
    "\n",
    "# Initializing GridSearchCV\n",
    "gridSearch = GridSearchCV(estimator=rForest, param_grid=paramGrid, cv=5, n_jobs=-1, verbose=2, error_score='raise')\n",
    "gridSearch.fit(xTrain, yTrain)\n",
    "\n",
    "# Best parameters and best model\n",
    "bestParams = gridSearch.best_params_\n",
    "bestModel = gridSearch.best_estimator_\n",
    "\n",
    "# Predicting on the validation set\n",
    "yPredictedValue = bestModel.predict(xVal)\n",
    "\n",
    "# Evaluating the model\n",
    "accuracy = accuracy_score(yVal, yPredictedValue)\n",
    "precision = precision_score(yVal, yPredictedValue)\n",
    "recall = recall_score(yVal, yPredictedValue)\n",
    "f1 = f1_score(yVal, yPredictedValue)\n",
    "confusionMatrix = confusion_matrix(yVal, yPredictedValue)\n",
    "\n",
    "print(\"Best Model accuracy: \" + str(accuracy))\n",
    "print(\"Precision: \" + str(precision))\n",
    "print(\"Recall: \" + str(recall))\n",
    "print(\"F1-Score: \" + str(f1))\n",
    "print(confusionMatrix)"
   ]
  },
  {
   "cell_type": "markdown",
   "metadata": {},
   "source": [
    "Test Data preprocessing"
   ]
  },
  {
   "cell_type": "code",
   "execution_count": 45,
   "metadata": {},
   "outputs": [
    {
     "name": "stdout",
     "output_type": "stream",
     "text": [
      "Overview of the test data\n",
      "   PassengerId  Pclass                                          Name     Sex  \\\n",
      "0          892       3                              Kelly, Mr. James    male   \n",
      "1          893       3              Wilkes, Mrs. James (Ellen Needs)  female   \n",
      "2          894       2                     Myles, Mr. Thomas Francis    male   \n",
      "3          895       3                              Wirz, Mr. Albert    male   \n",
      "4          896       3  Hirvonen, Mrs. Alexander (Helga E Lindqvist)  female   \n",
      "\n",
      "    Age  SibSp  Parch   Ticket     Fare Cabin Embarked  \n",
      "0  34.5      0      0   330911   7.8292   NaN        Q  \n",
      "1  47.0      1      0   363272   7.0000   NaN        S  \n",
      "2  62.0      0      0   240276   9.6875   NaN        Q  \n",
      "3  27.0      0      0   315154   8.6625   NaN        S  \n",
      "4  22.0      1      1  3101298  12.2875   NaN        S  \n"
     ]
    }
   ],
   "source": [
    "#Load the test data\n",
    "testTitanicData = pd.read_csv('../data/test.csv')\n",
    "print(\"Overview of the test data\")\n",
    "print(testTitanicData.head())"
   ]
  },
  {
   "cell_type": "code",
   "execution_count": 46,
   "metadata": {},
   "outputs": [
    {
     "name": "stdout",
     "output_type": "stream",
     "text": [
      "Missing data in each column for the test data\n",
      "PassengerId      0\n",
      "Pclass           0\n",
      "Name             0\n",
      "Sex              0\n",
      "Age             86\n",
      "SibSp            0\n",
      "Parch            0\n",
      "Ticket           0\n",
      "Fare             1\n",
      "Cabin          327\n",
      "Embarked         0\n",
      "dtype: int64\n"
     ]
    }
   ],
   "source": [
    "# Check for missing data\n",
    "testMissingData = testTitanicData.isnull().sum()\n",
    "print(\"Missing data in each column for the test data\")\n",
    "print(testMissingData)"
   ]
  },
  {
   "cell_type": "code",
   "execution_count": 47,
   "metadata": {},
   "outputs": [
    {
     "name": "stdout",
     "output_type": "stream",
     "text": [
      "\n",
      "Summary stats for numeric features\n",
      "       PassengerId      Pclass         Age       SibSp       Parch        Fare\n",
      "count   418.000000  418.000000  332.000000  418.000000  418.000000  417.000000\n",
      "mean   1100.500000    2.265550   30.272590    0.447368    0.392344   35.627188\n",
      "std     120.810458    0.841838   14.181209    0.896760    0.981429   55.907576\n",
      "min     892.000000    1.000000    0.170000    0.000000    0.000000    0.000000\n",
      "25%     996.250000    1.000000   21.000000    0.000000    0.000000    7.895800\n",
      "50%    1100.500000    3.000000   27.000000    0.000000    0.000000   14.454200\n",
      "75%    1204.750000    3.000000   39.000000    1.000000    0.000000   31.500000\n",
      "max    1309.000000    3.000000   76.000000    8.000000    9.000000  512.329200\n"
     ]
    }
   ],
   "source": [
    "#Display summary statistics\n",
    "testSummaryStats = testTitanicData.describe()\n",
    "print(\"\\nSummary stats for numeric features\")\n",
    "print(testSummaryStats)"
   ]
  },
  {
   "cell_type": "code",
   "execution_count": 48,
   "metadata": {},
   "outputs": [
    {
     "data": {
      "image/png": "[encoded data removed]",
      "text/plain": [
       "<Figure size 1000x600 with 1 Axes>"
      ]
     },
     "metadata": {},
     "output_type": "display_data"
    }
   ],
   "source": [
    "#visualise data\n",
    "plt.figure(figsize=(10,6))\n",
    "sns.boxplot(data=testTitanicData.select_dtypes(include=['float64', 'int64'])) # Create boxplots for numerical features\n",
    "plt.title(\"Boxplots for numerical columns\")\n",
    "plt.show()"
   ]
  },
  {
   "cell_type": "code",
   "execution_count": 49,
   "metadata": {},
   "outputs": [
    {
     "name": "stdout",
     "output_type": "stream",
     "text": [
      "Confirming the number of missing values\n",
      "PassengerId    0\n",
      "Pclass         0\n",
      "Name           0\n",
      "Sex            0\n",
      "Age            0\n",
      "SibSp          0\n",
      "Parch          0\n",
      "Ticket         0\n",
      "Fare           0\n",
      "Embarked       0\n",
      "dtype: int64\n"
     ]
    }
   ],
   "source": [
    "#Make a copy of the original data\n",
    "testTitanicDataCopy = testTitanicData.copy()\n",
    "\n",
    "#Handle missing values\n",
    "#Replace missing Age values with the median age value\n",
    "testTitanicDataCopy['Age'].fillna(testTitanicDataCopy['Age'].median(), inplace=True)\n",
    "\n",
    "#Replace missing Fare values with the most common value\n",
    "testTitanicDataCopy['Fare'].fillna(testTitanicDataCopy['Fare'].median(), inplace=True)\n",
    "\n",
    "#Cabin was dropped in training so drop it here in test too, it also has a lot of missing values\n",
    "testTitanicDataCopy.drop('Cabin',axis=1,inplace=True)\n",
    "\n",
    "\n",
    "#Check if there are still missing values\n",
    "print(\"Confirming the number of missing values\")\n",
    "print(testTitanicDataCopy.isnull().sum())"
   ]
  },
  {
   "cell_type": "code",
   "execution_count": 50,
   "metadata": {},
   "outputs": [
    {
     "name": "stdout",
     "output_type": "stream",
     "text": [
      "   PassengerId  Pclass                                          Name   Age  \\\n",
      "0          892       3                              Kelly, Mr. James  34.5   \n",
      "1          893       3              Wilkes, Mrs. James (Ellen Needs)  47.0   \n",
      "2          894       2                     Myles, Mr. Thomas Francis  62.0   \n",
      "3          895       3                              Wirz, Mr. Albert  27.0   \n",
      "4          896       3  Hirvonen, Mrs. Alexander (Helga E Lindqvist)  22.0   \n",
      "\n",
      "   SibSp  Parch   Ticket     Fare  Sex_male  Embarked_Q  Embarked_S  \n",
      "0      0      0   330911   7.8292      True        True       False  \n",
      "1      1      0   363272   7.0000     False       False        True  \n",
      "2      0      0   240276   9.6875      True        True       False  \n",
      "3      0      0   315154   8.6625      True       False        True  \n",
      "4      1      1  3101298  12.2875     False       False        True  \n"
     ]
    }
   ],
   "source": [
    "testTitanicDataCopy = pd.get_dummies(testTitanicDataCopy, columns=['Sex', 'Embarked'],drop_first = True)\n",
    "print(testTitanicDataCopy.head())"
   ]
  },
  {
   "cell_type": "markdown",
   "metadata": {},
   "source": [
    "Final Model Training"
   ]
  },
  {
   "cell_type": "code",
   "execution_count": 54,
   "metadata": {},
   "outputs": [],
   "source": [
    "#Training final model\n",
    "finalModel = RandomForestClassifier(**bestParams,random_state=42)\n",
    "finalModel.fit(X,Y)\n",
    "\n",
    "#Predicting on the test data\n",
    "testTitanicDataCopy.drop(['Name', 'Ticket'], axis=1, inplace=True)\n",
    "testTitanicDataCopyProcessed = testTitanicDataCopy.drop(columns=['PassengerId'])\n",
    "testPredictions = finalModel.predict(testTitanicDataCopyProcessed)\n",
    "\n",
    "results = pd.DataFrame({\n",
    "    'PassengerId' : testTitanicDataCopy['PassengerId'], 'Survived' : testPredictions\n",
    "})\n",
    "results.to_csv('results.csv', index=False)\n",
    "\n",
    "\n"
   ]
  }
 ],
 "metadata": {
  "kernelspec": {
   "display_name": "venv",
   "language": "python",
   "name": "python3"
  },
  "language_info": {
   "codemirror_mode": {
    "name": "ipython",
    "version": 3
   },
   "file_extension": ".py",
   "mimetype": "text/x-python",
   "name": "python",
   "nbconvert_exporter": "python",
   "pygments_lexer": "ipython3",
   "version": "3.11.9"
  }
 },
 "nbformat": 4,
 "nbformat_minor": 2
}
